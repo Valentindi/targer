{
 "cells": [
  {
   "cell_type": "markdown",
   "metadata": {},
   "source": [
    "# generate data of test output"
   ]
  },
  {
   "cell_type": "code",
   "execution_count": null,
   "metadata": {},
   "outputs": [],
   "source": []
  },
  {
   "cell_type": "code",
   "execution_count": 21,
   "metadata": {},
   "outputs": [],
   "source": [
    "import os\n",
    "def walk_dirs_recursively(root_dir, extension=\".txt\", recursive=True):\n",
    "    collected = []\n",
    "    root_dir = os.path.abspath(root_dir)\n",
    "    for item in os.listdir(root_dir):\n",
    "        item_full_path = os.path.join(root_dir, item)\n",
    "        if os.path.isdir(item_full_path) and recursive:\n",
    "            #print(\"is dir\", item_full_path)\n",
    "            collected += walk_dirs_recursively(item_full_path)\n",
    "        if extension in item_full_path:\n",
    "            #print(\"is file\", item_full_path)\n",
    "            collected += [item_full_path]\n",
    "    return collected"
   ]
  },
  {
   "cell_type": "code",
   "execution_count": 22,
   "metadata": {},
   "outputs": [],
   "source": [
    "models = walk_dirs_recursively(\".\", \".hdf5\", recursive=False)"
   ]
  },
  {
   "cell_type": "code",
   "execution_count": 24,
   "metadata": {},
   "outputs": [
    {
     "name": "stdout",
     "output_type": "stream",
     "text": [
      "python3 run_tagger.py /Users/valentindittmar/git/ma/targer/targer-default-capri-patence=200-rnn-hidden-dim=500-epochs=200-it=3.hdf5 data/targer/targer_test.txt --gpu -2 -v f1-alpha-match-05 --output /Users/valentindittmar/git/ma/targer/targer-default-capri-patence=200-rnn-hidden-dim=500-epochs=200-it=3.out.test.json\n",
      "python3 run_tagger.py /Users/valentindittmar/git/ma/targer/targer-default-capri-patence=200-rnn-hidden-dim=500-epochs=200-it=2.hdf5 data/targer/targer_test.txt --gpu -2 -v f1-alpha-match-05 --output /Users/valentindittmar/git/ma/targer/targer-default-capri-patence=200-rnn-hidden-dim=500-epochs=200-it=2.out.test.json\n",
      "python3 run_tagger.py /Users/valentindittmar/git/ma/targer/targer-default-capri-patence=200-rnn-hidden-dim=500-epochs=200-it=9.hdf5 data/targer/targer_test.txt --gpu -2 -v f1-alpha-match-05 --output /Users/valentindittmar/git/ma/targer/targer-default-capri-patence=200-rnn-hidden-dim=500-epochs=200-it=9.out.test.json\n",
      "python3 run_tagger.py /Users/valentindittmar/git/ma/targer/targer-default-capri-patence-CA=200-rnn-hidden-dim=1000-epochs=1.hdf5 data/targer/targer_test.txt --gpu -2 -v f1-alpha-match-05 --output /Users/valentindittmar/git/ma/targer/targer-default-capri-patence-CA=200-rnn-hidden-dim=1000-epochs=1.out.test.json\n",
      "python3 run_tagger.py /Users/valentindittmar/git/ma/targer/targer-default-capri-patence=200-rnn-hidden-dim=500-epochs=200-it=5.hdf5 data/targer/targer_test.txt --gpu -2 -v f1-alpha-match-05 --output /Users/valentindittmar/git/ma/targer/targer-default-capri-patence=200-rnn-hidden-dim=500-epochs=200-it=5.out.test.json\n",
      "python3 run_tagger.py /Users/valentindittmar/git/ma/targer/targer-default-capri-patence-CI=200-rnn-hidden-dim=1000-epochs=200.hdf5 data/targer/targer_test.txt --gpu -2 -v f1-alpha-match-05 --output /Users/valentindittmar/git/ma/targer/targer-default-capri-patence-CI=200-rnn-hidden-dim=1000-epochs=200.out.test.json\n",
      "python3 run_tagger.py /Users/valentindittmar/git/ma/targer/targer-default-capri-patence-CC=200-rnn-hidden-dim=1000-epochs=1.hdf5 data/targer/targer_test.txt --gpu -2 -v f1-alpha-match-05 --output /Users/valentindittmar/git/ma/targer/targer-default-capri-patence-CC=200-rnn-hidden-dim=1000-epochs=1.out.test.json\n",
      "python3 run_tagger.py /Users/valentindittmar/git/ma/targer/targer-default-capri-patence=200-rnn-hidden-dim=500-epochs=200-it=4.hdf5 data/targer/targer_test.txt --gpu -2 -v f1-alpha-match-05 --output /Users/valentindittmar/git/ma/targer/targer-default-capri-patence=200-rnn-hidden-dim=500-epochs=200-it=4.out.test.json\n",
      "python3 run_tagger.py /Users/valentindittmar/git/ma/targer/targer-default-capri-patence=200-rnn-hidden-dim=500-epochs=200-it=8.hdf5 data/targer/targer_test.txt --gpu -2 -v f1-alpha-match-05 --output /Users/valentindittmar/git/ma/targer/targer-default-capri-patence=200-rnn-hidden-dim=500-epochs=200-it=8.out.test.json\n",
      "python3 run_tagger.py /Users/valentindittmar/git/ma/targer/targer-default-capri-patence=200-rnn-hidden-dim=500-epochs=200-it=10.hdf5 data/targer/targer_test.txt --gpu -2 -v f1-alpha-match-05 --output /Users/valentindittmar/git/ma/targer/targer-default-capri-patence=200-rnn-hidden-dim=500-epochs=200-it=10.out.test.json\n",
      "python3 run_tagger.py /Users/valentindittmar/git/ma/targer/targer-default-capri-patence=200-rnn-hidden-dim=500-epochs=200-it=7.hdf5 data/targer/targer_test.txt --gpu -2 -v f1-alpha-match-05 --output /Users/valentindittmar/git/ma/targer/targer-default-capri-patence=200-rnn-hidden-dim=500-epochs=200-it=7.out.test.json\n",
      "python3 run_tagger.py /Users/valentindittmar/git/ma/targer/targer-default-capri-patence=200-rnn-hidden-dim=500-epochs=200-it=6.hdf5 data/targer/targer_test.txt --gpu -2 -v f1-alpha-match-05 --output /Users/valentindittmar/git/ma/targer/targer-default-capri-patence=200-rnn-hidden-dim=500-epochs=200-it=6.out.test.json\n",
      "python3 run_tagger.py /Users/valentindittmar/git/ma/targer/targer-default-capri-patence=200-rnn-hidden-dim=500-epochs=200-it=1.hdf5 data/targer/targer_test.txt --gpu -2 -v f1-alpha-match-05 --output /Users/valentindittmar/git/ma/targer/targer-default-capri-patence=200-rnn-hidden-dim=500-epochs=200-it=1.out.test.json\n",
      "python3 run_tagger.py /Users/valentindittmar/git/ma/targer/targer-default-capri-patence-CI=200-rnn-hidden-dim=1000-epochs=1.hdf5 data/targer/targer_test.txt --gpu -2 -v f1-alpha-match-05 --output /Users/valentindittmar/git/ma/targer/targer-default-capri-patence-CI=200-rnn-hidden-dim=1000-epochs=1.out.test.json\n",
      "python3 run_tagger.py /Users/valentindittmar/git/ma/targer/targer-default-capri-patence=200-rnn-hidden-dim=500-epochs=200-it=3.hdf5 data/targer/targer_train.txt --gpu -2 -v f1-alpha-match-05 --output /Users/valentindittmar/git/ma/targer/targer-default-capri-patence=200-rnn-hidden-dim=500-epochs=200-it=3.out.train.json\n",
      "python3 run_tagger.py /Users/valentindittmar/git/ma/targer/targer-default-capri-patence=200-rnn-hidden-dim=500-epochs=200-it=2.hdf5 data/targer/targer_train.txt --gpu -2 -v f1-alpha-match-05 --output /Users/valentindittmar/git/ma/targer/targer-default-capri-patence=200-rnn-hidden-dim=500-epochs=200-it=2.out.train.json\n",
      "python3 run_tagger.py /Users/valentindittmar/git/ma/targer/targer-default-capri-patence=200-rnn-hidden-dim=500-epochs=200-it=9.hdf5 data/targer/targer_train.txt --gpu -2 -v f1-alpha-match-05 --output /Users/valentindittmar/git/ma/targer/targer-default-capri-patence=200-rnn-hidden-dim=500-epochs=200-it=9.out.train.json\n",
      "python3 run_tagger.py /Users/valentindittmar/git/ma/targer/targer-default-capri-patence-CA=200-rnn-hidden-dim=1000-epochs=1.hdf5 data/targer/targer_train.txt --gpu -2 -v f1-alpha-match-05 --output /Users/valentindittmar/git/ma/targer/targer-default-capri-patence-CA=200-rnn-hidden-dim=1000-epochs=1.out.train.json\n",
      "python3 run_tagger.py /Users/valentindittmar/git/ma/targer/targer-default-capri-patence=200-rnn-hidden-dim=500-epochs=200-it=5.hdf5 data/targer/targer_train.txt --gpu -2 -v f1-alpha-match-05 --output /Users/valentindittmar/git/ma/targer/targer-default-capri-patence=200-rnn-hidden-dim=500-epochs=200-it=5.out.train.json\n",
      "python3 run_tagger.py /Users/valentindittmar/git/ma/targer/targer-default-capri-patence-CI=200-rnn-hidden-dim=1000-epochs=200.hdf5 data/targer/targer_train.txt --gpu -2 -v f1-alpha-match-05 --output /Users/valentindittmar/git/ma/targer/targer-default-capri-patence-CI=200-rnn-hidden-dim=1000-epochs=200.out.train.json\n",
      "python3 run_tagger.py /Users/valentindittmar/git/ma/targer/targer-default-capri-patence-CC=200-rnn-hidden-dim=1000-epochs=1.hdf5 data/targer/targer_train.txt --gpu -2 -v f1-alpha-match-05 --output /Users/valentindittmar/git/ma/targer/targer-default-capri-patence-CC=200-rnn-hidden-dim=1000-epochs=1.out.train.json\n",
      "python3 run_tagger.py /Users/valentindittmar/git/ma/targer/targer-default-capri-patence=200-rnn-hidden-dim=500-epochs=200-it=4.hdf5 data/targer/targer_train.txt --gpu -2 -v f1-alpha-match-05 --output /Users/valentindittmar/git/ma/targer/targer-default-capri-patence=200-rnn-hidden-dim=500-epochs=200-it=4.out.train.json\n",
      "python3 run_tagger.py /Users/valentindittmar/git/ma/targer/targer-default-capri-patence=200-rnn-hidden-dim=500-epochs=200-it=8.hdf5 data/targer/targer_train.txt --gpu -2 -v f1-alpha-match-05 --output /Users/valentindittmar/git/ma/targer/targer-default-capri-patence=200-rnn-hidden-dim=500-epochs=200-it=8.out.train.json\n",
      "python3 run_tagger.py /Users/valentindittmar/git/ma/targer/targer-default-capri-patence=200-rnn-hidden-dim=500-epochs=200-it=10.hdf5 data/targer/targer_train.txt --gpu -2 -v f1-alpha-match-05 --output /Users/valentindittmar/git/ma/targer/targer-default-capri-patence=200-rnn-hidden-dim=500-epochs=200-it=10.out.train.json\n",
      "python3 run_tagger.py /Users/valentindittmar/git/ma/targer/targer-default-capri-patence=200-rnn-hidden-dim=500-epochs=200-it=7.hdf5 data/targer/targer_train.txt --gpu -2 -v f1-alpha-match-05 --output /Users/valentindittmar/git/ma/targer/targer-default-capri-patence=200-rnn-hidden-dim=500-epochs=200-it=7.out.train.json\n",
      "python3 run_tagger.py /Users/valentindittmar/git/ma/targer/targer-default-capri-patence=200-rnn-hidden-dim=500-epochs=200-it=6.hdf5 data/targer/targer_train.txt --gpu -2 -v f1-alpha-match-05 --output /Users/valentindittmar/git/ma/targer/targer-default-capri-patence=200-rnn-hidden-dim=500-epochs=200-it=6.out.train.json\n"
     ]
    },
    {
     "name": "stdout",
     "output_type": "stream",
     "text": [
      "python3 run_tagger.py /Users/valentindittmar/git/ma/targer/targer-default-capri-patence=200-rnn-hidden-dim=500-epochs=200-it=1.hdf5 data/targer/targer_train.txt --gpu -2 -v f1-alpha-match-05 --output /Users/valentindittmar/git/ma/targer/targer-default-capri-patence=200-rnn-hidden-dim=500-epochs=200-it=1.out.train.json\n",
      "python3 run_tagger.py /Users/valentindittmar/git/ma/targer/targer-default-capri-patence-CI=200-rnn-hidden-dim=1000-epochs=1.hdf5 data/targer/targer_train.txt --gpu -2 -v f1-alpha-match-05 --output /Users/valentindittmar/git/ma/targer/targer-default-capri-patence-CI=200-rnn-hidden-dim=1000-epochs=1.out.train.json\n",
      "python3 run_tagger.py /Users/valentindittmar/git/ma/targer/targer-default-capri-patence=200-rnn-hidden-dim=500-epochs=200-it=3.hdf5 data/targer/targer_dev.txt --gpu -2 -v f1-alpha-match-05 --output /Users/valentindittmar/git/ma/targer/targer-default-capri-patence=200-rnn-hidden-dim=500-epochs=200-it=3.out.dev.json\n",
      "python3 run_tagger.py /Users/valentindittmar/git/ma/targer/targer-default-capri-patence=200-rnn-hidden-dim=500-epochs=200-it=2.hdf5 data/targer/targer_dev.txt --gpu -2 -v f1-alpha-match-05 --output /Users/valentindittmar/git/ma/targer/targer-default-capri-patence=200-rnn-hidden-dim=500-epochs=200-it=2.out.dev.json\n",
      "python3 run_tagger.py /Users/valentindittmar/git/ma/targer/targer-default-capri-patence=200-rnn-hidden-dim=500-epochs=200-it=9.hdf5 data/targer/targer_dev.txt --gpu -2 -v f1-alpha-match-05 --output /Users/valentindittmar/git/ma/targer/targer-default-capri-patence=200-rnn-hidden-dim=500-epochs=200-it=9.out.dev.json\n",
      "python3 run_tagger.py /Users/valentindittmar/git/ma/targer/targer-default-capri-patence-CA=200-rnn-hidden-dim=1000-epochs=1.hdf5 data/targer/targer_dev.txt --gpu -2 -v f1-alpha-match-05 --output /Users/valentindittmar/git/ma/targer/targer-default-capri-patence-CA=200-rnn-hidden-dim=1000-epochs=1.out.dev.json\n",
      "python3 run_tagger.py /Users/valentindittmar/git/ma/targer/targer-default-capri-patence=200-rnn-hidden-dim=500-epochs=200-it=5.hdf5 data/targer/targer_dev.txt --gpu -2 -v f1-alpha-match-05 --output /Users/valentindittmar/git/ma/targer/targer-default-capri-patence=200-rnn-hidden-dim=500-epochs=200-it=5.out.dev.json\n",
      "python3 run_tagger.py /Users/valentindittmar/git/ma/targer/targer-default-capri-patence-CI=200-rnn-hidden-dim=1000-epochs=200.hdf5 data/targer/targer_dev.txt --gpu -2 -v f1-alpha-match-05 --output /Users/valentindittmar/git/ma/targer/targer-default-capri-patence-CI=200-rnn-hidden-dim=1000-epochs=200.out.dev.json\n",
      "python3 run_tagger.py /Users/valentindittmar/git/ma/targer/targer-default-capri-patence-CC=200-rnn-hidden-dim=1000-epochs=1.hdf5 data/targer/targer_dev.txt --gpu -2 -v f1-alpha-match-05 --output /Users/valentindittmar/git/ma/targer/targer-default-capri-patence-CC=200-rnn-hidden-dim=1000-epochs=1.out.dev.json\n",
      "python3 run_tagger.py /Users/valentindittmar/git/ma/targer/targer-default-capri-patence=200-rnn-hidden-dim=500-epochs=200-it=4.hdf5 data/targer/targer_dev.txt --gpu -2 -v f1-alpha-match-05 --output /Users/valentindittmar/git/ma/targer/targer-default-capri-patence=200-rnn-hidden-dim=500-epochs=200-it=4.out.dev.json\n",
      "python3 run_tagger.py /Users/valentindittmar/git/ma/targer/targer-default-capri-patence=200-rnn-hidden-dim=500-epochs=200-it=8.hdf5 data/targer/targer_dev.txt --gpu -2 -v f1-alpha-match-05 --output /Users/valentindittmar/git/ma/targer/targer-default-capri-patence=200-rnn-hidden-dim=500-epochs=200-it=8.out.dev.json\n",
      "python3 run_tagger.py /Users/valentindittmar/git/ma/targer/targer-default-capri-patence=200-rnn-hidden-dim=500-epochs=200-it=10.hdf5 data/targer/targer_dev.txt --gpu -2 -v f1-alpha-match-05 --output /Users/valentindittmar/git/ma/targer/targer-default-capri-patence=200-rnn-hidden-dim=500-epochs=200-it=10.out.dev.json\n",
      "python3 run_tagger.py /Users/valentindittmar/git/ma/targer/targer-default-capri-patence=200-rnn-hidden-dim=500-epochs=200-it=7.hdf5 data/targer/targer_dev.txt --gpu -2 -v f1-alpha-match-05 --output /Users/valentindittmar/git/ma/targer/targer-default-capri-patence=200-rnn-hidden-dim=500-epochs=200-it=7.out.dev.json\n",
      "python3 run_tagger.py /Users/valentindittmar/git/ma/targer/targer-default-capri-patence=200-rnn-hidden-dim=500-epochs=200-it=6.hdf5 data/targer/targer_dev.txt --gpu -2 -v f1-alpha-match-05 --output /Users/valentindittmar/git/ma/targer/targer-default-capri-patence=200-rnn-hidden-dim=500-epochs=200-it=6.out.dev.json\n",
      "python3 run_tagger.py /Users/valentindittmar/git/ma/targer/targer-default-capri-patence=200-rnn-hidden-dim=500-epochs=200-it=1.hdf5 data/targer/targer_dev.txt --gpu -2 -v f1-alpha-match-05 --output /Users/valentindittmar/git/ma/targer/targer-default-capri-patence=200-rnn-hidden-dim=500-epochs=200-it=1.out.dev.json\n",
      "python3 run_tagger.py /Users/valentindittmar/git/ma/targer/targer-default-capri-patence-CI=200-rnn-hidden-dim=1000-epochs=1.hdf5 data/targer/targer_dev.txt --gpu -2 -v f1-alpha-match-05 --output /Users/valentindittmar/git/ma/targer/targer-default-capri-patence-CI=200-rnn-hidden-dim=1000-epochs=1.out.dev.json\n"
     ]
    }
   ],
   "source": [
    "postfix = \"test\"\n",
    "for postfix in [\"test\", \"train\", \"dev\"]:\n",
    "    test_fn = \"data/targer/targer_{}.txt\".format(postfix)\n",
    "    for model_fn in models[:]:\n",
    "        output_fn = model_fn[:-5] + \".out.{}.json\".format(postfix)\n",
    "        #print(model_fn, output_fn)\n",
    "        print('python3 run_tagger.py {} {} --gpu -2 -v f1-alpha-match-05 --output {}'.format(model_fn, test_fn, output_fn))\n",
    "        os.system('python3 run_tagger.py {} {} --gpu -2 -v f1-alpha-match-05 --output {}'.format(model_fn, test_fn, output_fn))"
   ]
  },
  {
   "cell_type": "code",
   "execution_count": null,
   "metadata": {},
   "outputs": [],
   "source": []
  }
 ],
 "metadata": {
  "kernelspec": {
   "display_name": "Python 3",
   "language": "python",
   "name": "python3"
  },
  "language_info": {
   "codemirror_mode": {
    "name": "ipython",
    "version": 3
   },
   "file_extension": ".py",
   "mimetype": "text/x-python",
   "name": "python",
   "nbconvert_exporter": "python",
   "pygments_lexer": "ipython3",
   "version": "3.7.6"
  }
 },
 "nbformat": 4,
 "nbformat_minor": 2
}
