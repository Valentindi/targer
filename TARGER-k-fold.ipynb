{
 "cells": [
  {
   "cell_type": "markdown",
   "metadata": {},
   "source": [
    "# Evaluate K-Fold output from targer"
   ]
  },
  {
   "cell_type": "markdown",
   "metadata": {},
   "source": [
    "## Load Files"
   ]
  },
  {
   "cell_type": "code",
   "execution_count": 8,
   "metadata": {},
   "outputs": [
    {
     "name": "stdout",
     "output_type": "stream",
     "text": [
      "targer-default-capri-patence=200-rnn-hidden-dim=500-epochs=200-it=1.hdf5\r\n",
      "targer-default-capri-patence=200-rnn-hidden-dim=500-epochs=200-it=1.log\r\n",
      "targer-default-capri-patence=200-rnn-hidden-dim=500-epochs=200-it=1.txt\r\n",
      "targer-default-capri-patence=200-rnn-hidden-dim=500-epochs=200-it=10.hdf5\r\n",
      "targer-default-capri-patence=200-rnn-hidden-dim=500-epochs=200-it=10.log\r\n",
      "targer-default-capri-patence=200-rnn-hidden-dim=500-epochs=200-it=10.txt\r\n",
      "targer-default-capri-patence=200-rnn-hidden-dim=500-epochs=200-it=2.hdf5\r\n",
      "targer-default-capri-patence=200-rnn-hidden-dim=500-epochs=200-it=2.log\r\n",
      "targer-default-capri-patence=200-rnn-hidden-dim=500-epochs=200-it=2.txt\r\n",
      "targer-default-capri-patence=200-rnn-hidden-dim=500-epochs=200-it=3.hdf5\r\n",
      "targer-default-capri-patence=200-rnn-hidden-dim=500-epochs=200-it=3.log\r\n",
      "targer-default-capri-patence=200-rnn-hidden-dim=500-epochs=200-it=3.txt\r\n",
      "targer-default-capri-patence=200-rnn-hidden-dim=500-epochs=200-it=4.hdf5\r\n",
      "targer-default-capri-patence=200-rnn-hidden-dim=500-epochs=200-it=4.log\r\n",
      "targer-default-capri-patence=200-rnn-hidden-dim=500-epochs=200-it=4.txt\r\n",
      "targer-default-capri-patence=200-rnn-hidden-dim=500-epochs=200-it=5.hdf5\r\n",
      "targer-default-capri-patence=200-rnn-hidden-dim=500-epochs=200-it=5.log\r\n",
      "targer-default-capri-patence=200-rnn-hidden-dim=500-epochs=200-it=5.txt\r\n",
      "targer-default-capri-patence=200-rnn-hidden-dim=500-epochs=200-it=6.hdf5\r\n",
      "targer-default-capri-patence=200-rnn-hidden-dim=500-epochs=200-it=6.log\r\n",
      "targer-default-capri-patence=200-rnn-hidden-dim=500-epochs=200-it=6.txt\r\n",
      "targer-default-capri-patence=200-rnn-hidden-dim=500-epochs=200-it=7.hdf5\r\n",
      "targer-default-capri-patence=200-rnn-hidden-dim=500-epochs=200-it=7.log\r\n",
      "targer-default-capri-patence=200-rnn-hidden-dim=500-epochs=200-it=7.txt\r\n",
      "targer-default-capri-patence=200-rnn-hidden-dim=500-epochs=200-it=8.hdf5\r\n",
      "targer-default-capri-patence=200-rnn-hidden-dim=500-epochs=200-it=8.log\r\n",
      "targer-default-capri-patence=200-rnn-hidden-dim=500-epochs=200-it=8.txt\r\n",
      "targer-default-capri-patence=200-rnn-hidden-dim=500-epochs=200-it=9.hdf5\r\n",
      "targer-default-capri-patence=200-rnn-hidden-dim=500-epochs=200-it=9.log\r\n",
      "targer-default-capri-patence=200-rnn-hidden-dim=500-epochs=200-it=9.txt\r\n"
     ]
    }
   ],
   "source": [
    "!ls | grep \"-epochs=200-it=\" "
   ]
  },
  {
   "cell_type": "code",
   "execution_count": 4,
   "metadata": {},
   "outputs": [],
   "source": [
    "fns = [\"targer-default-capri-patence=200-rnn-hidden-dim=500-epochs=200-it=1.txt\",\n",
    "\"targer-default-capri-patence=200-rnn-hidden-dim=500-epochs=200-it=10.txt\",\n",
    "\"targer-default-capri-patence=200-rnn-hidden-dim=500-epochs=200-it=2.txt\",\n",
    "\"targer-default-capri-patence=200-rnn-hidden-dim=500-epochs=200-it=3.txt\",\n",
    "\"targer-default-capri-patence=200-rnn-hidden-dim=500-epochs=200-it=4.txt\",\n",
    "\"targer-default-capri-patence=200-rnn-hidden-dim=500-epochs=200-it=5.txt\",\n",
    "\"targer-default-capri-patence=200-rnn-hidden-dim=500-epochs=200-it=6.txt\",\n",
    "\"targer-default-capri-patence=200-rnn-hidden-dim=500-epochs=200-it=7.txt\",\n",
    "\"targer-default-capri-patence=200-rnn-hidden-dim=500-epochs=200-it=8.txt\",\n",
    "\"targer-default-capri-patence=200-rnn-hidden-dim=500-epochs=200-it=9.txt\"]"
   ]
  },
  {
   "cell_type": "code",
   "execution_count": 7,
   "metadata": {},
   "outputs": [
    {
     "name": "stdout",
     "output_type": "stream",
     "text": [
      "\r\n",
      "    accuracy                           0.85      2677\r\n",
      "   macro avg       0.81      0.80      0.81      2677\r\n",
      "weighted avg       0.85      0.85      0.85      2677\r\n",
      "\r\n",
      "\r\n",
      "Input arguments:\r\n",
      "python3 main.py --train data/targer/targer_train.txt --dev data/targer/targer_dev.txt --test data/targer/targer_test.txt --data-io connl-ner-2003 --model BiRNNCRF --opt adam --save-best yes --patience 200 --rnn-hidden-dim 500 --rnn-type GRU --gpu -2 --elmo False --epoch-num 200 --evaluator f1-macro --bert False --special_bert False --xlnet False --logname targer-default-capri-patence=200-rnn-hidden-dim=500-epochs=200-it=1.log --report-fn targer-default-capri-patence=200-rnn-hidden-dim=500-epochs=200-it=1.txt --save targer-default-capri-patence=200-rnn-hidden-dim=500-epochs=200-it=1.hdf5 --cross-folds-num 10 --cross-fold-id 1\r\n",
      "\r\n",
      "80.6081"
     ]
    }
   ],
   "source": [
    "!tail targer-default-capri-patence=200-rnn-hidden-dim=500-epochs=200-it=1.txt"
   ]
  },
  {
   "cell_type": "code",
   "execution_count": null,
   "metadata": {},
   "outputs": [],
   "source": []
  }
 ],
 "metadata": {
  "kernelspec": {
   "display_name": "Python 3",
   "language": "python",
   "name": "python3"
  },
  "language_info": {
   "codemirror_mode": {
    "name": "ipython",
    "version": 3
   },
   "file_extension": ".py",
   "mimetype": "text/x-python",
   "name": "python",
   "nbconvert_exporter": "python",
   "pygments_lexer": "ipython3",
   "version": "3.7.6"
  }
 },
 "nbformat": 4,
 "nbformat_minor": 2
}
