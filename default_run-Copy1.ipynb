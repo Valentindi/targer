{
 "cells": [
  {
   "cell_type": "code",
   "execution_count": null,
   "metadata": {},
   "outputs": [
    {
     "name": "stdout",
     "output_type": "stream",
     "text": [
      " -- {'<pad>': 0, 'O': 1, 'B-OBJ': 2, 'B-PREDFULL': 3, 'I-PREDFULL': 4, 'I-OBJ': 5}\n"
     ]
    }
   ],
   "source": [
    "! python3 main.py --train \"/home/vika/targer_c/targer/data/NER/Varvara_v1/train_pred_full.tsv\" --dev \"/home/vika/targer_c/targer/data/NER/Varvara_v1/dev_pred_full.tsv\" --data-io connl-ner-2003 --evaluator f1-alpha-match-10 --model BiRNN --opt adam --save-best yes --patience 20 --rnn-hidden-dim 200 --gpu 2 --test \"/home/vika/targer_c/targer/data/NER/Varvara_v1/test_pred_full.tsv\" --elmo False --save \"bert.hdf5\" --path_to_bert \"/home/vika/targer/pretrained/uncased_L-12_H-768_A-12/\" --logname \"bert.txt\" --epoch-num 150 --evaluator f1-macro --bert True"
   ]
  },
  {
   "cell_type": "code",
   "execution_count": 1,
   "metadata": {},
   "outputs": [
    {
     "name": "stdout",
     "output_type": "stream",
     "text": [
      "Sun Nov  3 22:26:27 2019       \n",
      "+-----------------------------------------------------------------------------+\n",
      "| NVIDIA-SMI 390.87                 Driver Version: 390.87                    |\n",
      "|-------------------------------+----------------------+----------------------+\n",
      "| GPU  Name        Persistence-M| Bus-Id        Disp.A | Volatile Uncorr. ECC |\n",
      "| Fan  Temp  Perf  Pwr:Usage/Cap|         Memory-Usage | GPU-Util  Compute M. |\n",
      "|===============================+======================+======================|\n",
      "|   0  GeForce GTX 108...  Off  | 00000000:05:00.0 Off |                  N/A |\n",
      "| 46%   70C    P2    66W / 250W |   5335MiB / 11170MiB |     19%      Default |\n",
      "+-------------------------------+----------------------+----------------------+\n",
      "|   1  GeForce GTX 108...  Off  | 00000000:06:00.0 Off |                  N/A |\n",
      "| 44%   65C    P2    63W / 250W |   9699MiB / 11178MiB |     22%      Default |\n",
      "+-------------------------------+----------------------+----------------------+\n",
      "|   2  GeForce GTX 108...  Off  | 00000000:09:00.0 Off |                  N/A |\n",
      "| 27%   45C    P8    16W / 250W |   3692MiB / 11178MiB |      0%      Default |\n",
      "+-------------------------------+----------------------+----------------------+\n",
      "|   3  GeForce GTX 108...  Off  | 00000000:0A:00.0 Off |                  N/A |\n",
      "| 28%   45C    P8    17W / 250W |   3414MiB / 11178MiB |      0%      Default |\n",
      "+-------------------------------+----------------------+----------------------+\n",
      "                                                                               \n",
      "+-----------------------------------------------------------------------------+\n",
      "| Processes:                                                       GPU Memory |\n",
      "|  GPU       PID   Type   Process name                             Usage      |\n",
      "|=============================================================================|\n",
      "+-----------------------------------------------------------------------------+\n"
     ]
    }
   ],
   "source": [
    "!nvidia-smi"
   ]
  },
  {
   "cell_type": "code",
   "execution_count": 2,
   "metadata": {},
   "outputs": [
    {
     "name": "stdout",
     "output_type": "stream",
     "text": [
      "Reading embeddings file embeddings/glove.6B.100d.txt, line = 0\n",
      "Reading embeddings file embeddings/glove.6B.100d.txt, line = 25000\n",
      "Reading embeddings file embeddings/glove.6B.100d.txt, line = 50000\n",
      "Reading embeddings file embeddings/glove.6B.100d.txt, line = 75000\n",
      "Reading embeddings file embeddings/glove.6B.100d.txt, line = 100000\n",
      "Reading embeddings file embeddings/glove.6B.100d.txt, line = 125000\n",
      "Reading embeddings file embeddings/glove.6B.100d.txt, line = 150000\n",
      "Reading embeddings file embeddings/glove.6B.100d.txt, line = 175000\n",
      "Reading embeddings file embeddings/glove.6B.100d.txt, line = 200000\n",
      "Reading embeddings file embeddings/glove.6B.100d.txt, line = 225000\n",
      "Reading embeddings file embeddings/glove.6B.100d.txt, line = 250000\n",
      "Reading embeddings file embeddings/glove.6B.100d.txt, line = 275000\n",
      "Reading embeddings file embeddings/glove.6B.100d.txt, line = 300000\n",
      "Reading embeddings file embeddings/glove.6B.100d.txt, line = 325000\n",
      "Reading embeddings file embeddings/glove.6B.100d.txt, line = 350000\n",
      "Reading embeddings file embeddings/glove.6B.100d.txt, line = 375000\n",
      "\n",
      "load_vocabulary_from_embeddings_file_and_unique_words_list:\n",
      "    First 50 OOV words:\n",
      "        out_of_vocabulary_words_list[0] = b'1tb O'\n",
      "        out_of_vocabulary_words_list[1] = b'of O'\n",
      "        out_of_vocabulary_words_list[2] = b'mechanical O'\n",
      "        out_of_vocabulary_words_list[3] = b'storage O'\n",
      "        out_of_vocabulary_words_list[4] = b'is O'\n",
      "        out_of_vocabulary_words_list[5] = b\"n't O\"\n",
      "        out_of_vocabulary_words_list[6] = b'bad O'\n",
      "        out_of_vocabulary_words_list[7] = b', O'\n",
      "        out_of_vocabulary_words_list[8] = b'but O'\n",
      "        out_of_vocabulary_words_list[9] = b'toshiba B-OTHOBJ'\n",
      "        out_of_vocabulary_words_list[10] = b'hard O'\n",
      "        out_of_vocabulary_words_list[11] = b'drives O'\n",
      "        out_of_vocabulary_words_list[12] = b'really O'\n",
      "        out_of_vocabulary_words_list[13] = b'are O'\n",
      "        out_of_vocabulary_words_list[14] = b'what O'\n",
      "        out_of_vocabulary_words_list[15] = b'we O'\n",
      "        out_of_vocabulary_words_list[16] = b'want O'\n",
      "        out_of_vocabulary_words_list[17] = b'to O'\n",
      "        out_of_vocabulary_words_list[18] = b'be O'\n",
      "        out_of_vocabulary_words_list[19] = b'seeing O'\n",
      "        out_of_vocabulary_words_list[20] = b'as O'\n",
      "        out_of_vocabulary_words_list[21] = b'they O'\n",
      "        out_of_vocabulary_words_list[22] = b'tend O'\n",
      "        out_of_vocabulary_words_list[23] = b'a O'\n",
      "        out_of_vocabulary_words_list[24] = b'bit O'\n",
      "        out_of_vocabulary_words_list[25] = b'slower O'\n",
      "        out_of_vocabulary_words_list[26] = b'than O'\n",
      "        out_of_vocabulary_words_list[27] = b'competing O'\n",
      "        out_of_vocabulary_words_list[28] = b'from O'\n",
      "        out_of_vocabulary_words_list[29] = b'hgst O'\n",
      "        out_of_vocabulary_words_list[30] = b'western O'\n",
      "        out_of_vocabulary_words_list[31] = b'digital O'\n",
      "        out_of_vocabulary_words_list[32] = b'samsung B-ASPOBJ'\n",
      "        out_of_vocabulary_words_list[33] = b'and O'\n",
      "        out_of_vocabulary_words_list[34] = b'seagate O'\n",
      "        out_of_vocabulary_words_list[35] = b'. O'\n",
      "        out_of_vocabulary_words_list[36] = b'amazon B-ASPOBJ'\n",
      "        out_of_vocabulary_words_list[37] = b'another O'\n",
      "        out_of_vocabulary_words_list[38] = b'good O'\n",
      "        out_of_vocabulary_words_list[39] = b'choice O'\n",
      "        out_of_vocabulary_words_list[40] = b'i O'\n",
      "        out_of_vocabulary_words_list[41] = b'actually O'\n",
      "        out_of_vocabulary_words_list[42] = b'prefer O'\n",
      "        out_of_vocabulary_words_list[43] = b'their O'\n",
      "        out_of_vocabulary_words_list[44] = b'interface O'\n",
      "        out_of_vocabulary_words_list[45] = b'better O'\n",
      "        out_of_vocabulary_words_list[46] = b'itunes B-OTHOBJ'\n",
      "        out_of_vocabulary_words_list[47] = b'( O'\n",
      "        out_of_vocabulary_words_list[48] = b'it O'\n",
      "        out_of_vocabulary_words_list[49] = b'loads O'\n",
      "        out_of_vocabulary_words_list[50] = b'faster B-ASP'\n",
      " -- len(out_of_vocabulary_words_list) = 8639\n",
      " -- original_words_num = 0\n",
      " -- lowercase_words_num = 0\n",
      " -- zero_digits_replaced_num = 0\n",
      " -- zero_digits_replaced_lowercase_num = 0\n",
      "\n",
      "load_vocabulary_from_tag_sequences:\n",
      " -- class_num = 7563\n",
      " -- Traceback (most recent call last):\n",
      "  File \"main.py\", line 144, in <module>\n",
      "    tag_seq_indexer.load_items_from_tag_sequences(tag_sequences_train)\n",
      "  File \"/home/vika/targer/src/seq_indexers/seq_indexer_tag.py\", line 23, in load_items_from_tag_sequences\n",
      "    print(' --', self.item2idx_dict)\n",
      "UnicodeEncodeError: 'ascii' codec can't encode character '\\u2122' in position 4620: ordinal not in range(128)\n"
     ]
    }
   ],
   "source": [
    "#CUDA_LAUNCH_BLOCKING = 1\n",
    "!python3 main.py --train \"/home/vika/targer/data/NER/Asqua_CAM_aspects/CAM_train.csv\" --dev \"/home/vika/targer/data/NER/Asqua_CAM_aspects/CAM_dev.csv\" --data-io connl-ner-2003 --evaluator f1-alpha-match-10 --model 'BiRNN' --opt adam --batch-size 20 --save-best yes --patience 20 --gpu 1 --test \"/home/vika/targer/data/NER/Asqua_CAM_aspects/CAM_test.csv\" --elmo False --evaluator f1-macro --bert False"
   ]
  },
  {
   "cell_type": "code",
   "execution_count": null,
   "metadata": {},
   "outputs": [],
   "source": []
  }
 ],
 "metadata": {
  "kernelspec": {
   "display_name": "Python 3",
   "language": "python",
   "name": "python3"
  },
  "language_info": {
   "codemirror_mode": {
    "name": "ipython",
    "version": 3
   },
   "file_extension": ".py",
   "mimetype": "text/x-python",
   "name": "python",
   "nbconvert_exporter": "python",
   "pygments_lexer": "ipython3",
   "version": "3.6.6"
  }
 },
 "nbformat": 4,
 "nbformat_minor": 2
}
