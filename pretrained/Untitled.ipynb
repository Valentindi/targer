{
 "cells": [
  {
   "cell_type": "code",
   "execution_count": null,
   "metadata": {},
   "outputs": [],
   "source": [
    "! wget 'https://storage.googleapis.com/bert_models/2018_10_18/uncased_L-12_H-768_A-12.zip' - O 'uncased_L-12_H-768_A-12.zip'"
   ]
  },
  {
   "cell_type": "code",
   "execution_count": null,
   "metadata": {},
   "outputs": [],
   "source": [
    "! unzip 'uncased_L-12_H-768_A-12.zip'"
   ]
  },
  {
   "cell_type": "code",
   "execution_count": 18,
   "metadata": {},
   "outputs": [
    {
     "name": "stdout",
     "output_type": "stream",
     "text": [
      "loading vocabulary file /home/vika/targer_c/targer/pretrained/cased_L-12_H-768_A-12/vocab.txt\n",
      "resolved voc file /home/vika/targer_c/targer/pretrained/cased_L-12_H-768_A-12/vocab.txt\n",
      "['[CLS]', '##A', '##fter', 'stealing', 'em', '##bed', '##ding', '##s', 'from', 'the', 'bank', \"##'\", '##s', 'accounts', '##,', 'the', 'bank', 'r', '##ob', '##ber', 'was', 'seen', 'driving', 'on', 'the', 'Mississippi', 'river', 'bank', 'in', 'mini', '##-', '##van', '##.', '##[', '##SE', '##P', '##]']\n"
     ]
    }
   ],
   "source": [
    "import tokenizer_custom_bert\n",
    "\n",
    "text = \"After stealing embeddings from the bank's accounts, the bank robber was seen driving on the Mississippi river bank in mini-van.\"\n",
    "text = '[CLS]' + text + '[SEP]'\n",
    "tokenizer = tokenizer_custom_bert.BertTokenizer.from_pretrained(\"https://s3.amazonaws.com/models.huggingface.co/bert/bert-base-uncased-vocab.txt\")\n",
    "tokenized_text = tokenizer.tokenize(text)\n",
    "print (tokenized_text)"
   ]
  },
  {
   "cell_type": "code",
   "execution_count": 3,
   "metadata": {},
   "outputs": [
    {
     "name": "stdout",
     "output_type": "stream",
     "text": [
      "INFO:tensorflow:Restoring parameters from ./cased_L-12_H-768_A-12/bert_model.ckpt\n"
     ]
    }
   ],
   "source": [
    "import tensorflow as tf\n",
    "with tf.Session() as sess:\n",
    "    saver = tf.train.import_meta_graph('./uncased_L-12_H-768_A-12/bert_model.ckpt.meta')\n",
    "    saver.restore(sess, \"./uncased_L-12_H-768_A-12/bert_model.ckpt\")"
   ]
  },
  {
   "cell_type": "code",
   "execution_count": 5,
   "metadata": {},
   "outputs": [
    {
     "name": "stdout",
     "output_type": "stream",
     "text": [
      "Building PyTorch model from configuration: {\n",
      "  \"attention_probs_dropout_prob\": 0.1,\n",
      "  \"finetuning_task\": null,\n",
      "  \"hidden_act\": \"gelu\",\n",
      "  \"hidden_dropout_prob\": 0.1,\n",
      "  \"hidden_size\": 768,\n",
      "  \"initializer_range\": 0.02,\n",
      "  \"intermediate_size\": 3072,\n",
      "  \"layer_norm_eps\": 1e-12,\n",
      "  \"max_position_embeddings\": 512,\n",
      "  \"num_attention_heads\": 12,\n",
      "  \"num_hidden_layers\": 12,\n",
      "  \"num_labels\": 2,\n",
      "  \"output_attentions\": false,\n",
      "  \"output_hidden_states\": false,\n",
      "  \"torchscript\": false,\n",
      "  \"type_vocab_size\": 2,\n",
      "  \"vocab_size\": 28996\n",
      "}\n",
      "\n",
      "Save PyTorch model to ./cased_L-12_H-768_A-12/pytorch_model\n"
     ]
    }
   ],
   "source": [
    "import torch\n",
    "\n",
    "from pytorch_transformers.modeling_bert import BertConfig, BertForPreTraining, load_tf_weights_in_bert\n",
    "\n",
    "\n",
    "tf_checkpoint_path=\"./uncased_L-12_H-768_A-12/bert_model.ckpt\"\n",
    "bert_config_file = \"./uncased_L-12_H-768_A-12/bert_config.json\"\n",
    "pytorch_dump_path=\"./uncased_L-12_H-768_A-12/pytorch_model\"\n",
    "\n",
    "config = BertConfig.from_json_file(bert_config_file)\n",
    "print(\"Building PyTorch model from configuration: {}\".format(str(config)))\n",
    "model = BertForPreTraining(config)\n",
    "\n",
    "# Load weights from tf checkpoint\n",
    "load_tf_weights_in_bert(model, config, tf_checkpoint_path)\n",
    "\n",
    "# Save pytorch-model\n",
    "print(\"Save PyTorch model to {}\".format(pytorch_dump_path))\n",
    "torch.save(model.state_dict(), pytorch_dump_path)"
   ]
  },
  {
   "cell_type": "code",
   "execution_count": 9,
   "metadata": {},
   "outputs": [],
   "source": [
    "import torch\n",
    "from pytorch_pretrained_bert import BertTokenizer, BertModel, BertForMaskedLM\n",
    "\n",
    "path_to_pretrained = \"./uncased_L-12_H-768_A-12\"\n",
    "bert_model = BertModel.from_pretrained(path_to_pretrained)"
   ]
  },
  {
   "cell_type": "code",
   "execution_count": 16,
   "metadata": {},
   "outputs": [
    {
     "name": "stdout",
     "output_type": "stream",
     "text": [
      "The autoreload extension is already loaded. To reload it, use:\n",
      "  %reload_ext autoreload\n",
      "loading vocabulary file /home/vika/targer_c/targer/pretrained/cased_L-12_H-768_A-12/vocab.txt\n",
      "resolved voc file /home/vika/targer_c/targer/pretrained/cased_L-12_H-768_A-12/vocab.txt\n",
      "['[CLS]', '##A', '##fter', 'stealing', 'em', '##bed', '##ding', '##s', 'from', 'the', 'bank', \"##'\", '##s', 'accounts', '##,', 'the', 'bank', 'r', '##ob', '##ber', 'was', 'seen', 'driving', 'on', 'the', 'Mississippi', 'river', 'bank', 'in', 'mini', '##-', '##van', '##.', '##[', '##SE', '##P', '##]']\n"
     ]
    }
   ],
   "source": [
    "%load_ext autoreload\n",
    "%autoreload 2\n",
    "import tokenizer_custom_bert\n",
    "\n",
    "text = \"After stealing embeddings from the bank's accounts, the bank robber was seen driving on the Mississippi river bank in mini-van.\"\n",
    "text = '[CLS]' + text + '[SEP]'\n",
    "tokenizer = tokenizer_custom_bert.BertTokenizer.from_pretrained(\"https://s3.amazonaws.com/models.huggingface.co/bert/bert-base-cased-vocab.txt\")\n",
    "tokenized_text = tokenizer.tokenize(text)\n",
    "print (tokenized_text)"
   ]
  },
  {
   "cell_type": "code",
   "execution_count": null,
   "metadata": {},
   "outputs": [],
   "source": []
  }
 ],
 "metadata": {
  "kernelspec": {
   "display_name": "Python 3",
   "language": "python",
   "name": "python3"
  },
  "language_info": {
   "codemirror_mode": {
    "name": "ipython",
    "version": 3
   },
   "file_extension": ".py",
   "mimetype": "text/x-python",
   "name": "python",
   "nbconvert_exporter": "python",
   "pygments_lexer": "ipython3",
   "version": "3.6.6"
  }
 },
 "nbformat": 4,
 "nbformat_minor": 2
}
