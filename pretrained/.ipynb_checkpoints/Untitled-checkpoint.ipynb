{
 "cells": [
  {
   "cell_type": "code",
   "execution_count": null,
   "metadata": {
    "pycharm": {
     "is_executing": true
    }
   },
   "outputs": [
    {
     "name": "stdout",
     "output_type": "stream",
     "text": [
      "--2020-01-29 19:34:41--  https://storage.googleapis.com/bert_models/2018_10_18/uncased_L-12_H-768_A-12.zip\n",
      "Resolving storage.googleapis.com (storage.googleapis.com)... 172.217.23.112\n",
      "Connecting to storage.googleapis.com (storage.googleapis.com)|172.217.23.112|:443... connected.\n",
      "HTTP request sent, awaiting response... 200 OK\n",
      "Length: 407727028 (389M) [application/zip]\n",
      "Saving to: ‘uncased_L-12_H-768_A-12.zip.2’\n",
      "\n",
      "uncased_L-12_H-768_ 100%[===================>] 388.84M  12.2MB/s    in 38s     \n",
      "\n",
      "2020-01-29 19:35:20 (10.2 MB/s) - ‘uncased_L-12_H-768_A-12.zip.2’ saved [407727028/407727028]\n",
      "\n",
      "--2020-01-29 19:35:20--  http://-/\n",
      "Resolving - (-)... failed: nodename nor servname provided, or not known.\n",
      "wget: unable to resolve host address ‘-’\n",
      "--2020-01-29 19:35:20--  http://o/\n",
      "Resolving o (o)... failed: nodename nor servname provided, or not known.\n",
      "wget: unable to resolve host address ‘o’\n",
      "--2020-01-29 19:35:20--  http://uncased_l-12_h-768_a-12.zip/\n",
      "Resolving uncased_l-12_h-768_a-12.zip (uncased_l-12_h-768_a-12.zip)... failed: nodename nor servname provided, or not known.\n",
      "wget: unable to resolve host address ‘uncased_l-12_h-768_a-12.zip’\n",
      "FINISHED --2020-01-29 19:35:20--\n",
      "Total wall clock time: 39s\n",
      "Downloaded: 1 files, 389M in 38s (10.2 MB/s)\n"
     ]
    }
   ],
   "source": [
    "! wget 'https://storage.googleapis.com/bert_models/2018_10_18/uncased_L-12_H-768_A-12.zip' - O 'uncased_L-12_H-768_A-12.zip'"
   ]
  },
  {
   "cell_type": "code",
   "execution_count": null,
   "metadata": {
    "pycharm": {
     "is_executing": true
    }
   },
   "outputs": [],
   "source": [
    "! unzip 'uncased_L-12_H-768_A-12.zip'"
   ]
  },
  {
   "cell_type": "code",
   "execution_count": null,
   "metadata": {
    "pycharm": {
     "is_executing": true
    }
   },
   "outputs": [],
   "source": [
    "import tokenizer_custom_bert\n",
    "\n",
    "text = \"After stealing embeddings from the bank's accounts, the bank robber was seen driving on the Mississippi river bank in mini-van.\"\n",
    "text = '[CLS]' + text + '[SEP]'\n",
    "tokenizer = tokenizer_custom_bert.BertTokenizer.from_pretrained(\"https://s3.amazonaws.com/models.huggingface.co/bert/bert-base-uncased-vocab.txt\")\n",
    "tokenized_text = tokenizer.tokenize(text)\n",
    "print (tokenized_text)"
   ]
  },
  {
   "cell_type": "code",
   "execution_count": null,
   "metadata": {
    "pycharm": {
     "is_executing": true
    }
   },
   "outputs": [],
   "source": [
    "import tensorflow as tf\n",
    "with tf.Session() as sess:\n",
    "    saver = tf.train.import_meta_graph('./uncased_L-12_H-768_A-12/bert_model.ckpt.meta')\n",
    "    saver.restore(sess, \"./uncased_L-12_H-768_A-12/bert_model.ckpt\")"
   ]
  },
  {
   "cell_type": "code",
   "execution_count": null,
   "metadata": {
    "pycharm": {
     "is_executing": true
    }
   },
   "outputs": [],
   "source": [
    "import torch\n",
    "\n",
    "from pytorch_transformers.modeling_bert import BertConfig, BertForPreTraining, load_tf_weights_in_bert\n",
    "\n",
    "\n",
    "tf_checkpoint_path=\"./uncased_L-12_H-768_A-12/bert_model.ckpt\"\n",
    "bert_config_file = \"./uncased_L-12_H-768_A-12/bert_config.json\"\n",
    "pytorch_dump_path=\"./uncased_L-12_H-768_A-12/pytorch_model\"\n",
    "\n",
    "config = BertConfig.from_json_file(bert_config_file)\n",
    "print(\"Building PyTorch model from configuration: {}\".format(str(config)))\n",
    "model = BertForPreTraining(config)\n",
    "\n",
    "# Load weights from tf checkpoint\n",
    "load_tf_weights_in_bert(model, config, tf_checkpoint_path)\n",
    "\n",
    "# Save pytorch-model\n",
    "print(\"Save PyTorch model to {}\".format(pytorch_dump_path))\n",
    "torch.save(model.state_dict(), pytorch_dump_path)"
   ]
  },
  {
   "cell_type": "code",
   "execution_count": null,
   "metadata": {
    "pycharm": {
     "is_executing": true
    }
   },
   "outputs": [],
   "source": [
    "import torch\n",
    "from pytorch_pretrained_bert import BertTokenizer, BertModel, BertForMaskedLM\n",
    "\n",
    "path_to_pretrained = \"./uncased_L-12_H-768_A-12\"\n",
    "bert_model = BertModel.from_pretrained(path_to_pretrained)"
   ]
  },
  {
   "cell_type": "code",
   "execution_count": null,
   "metadata": {
    "pycharm": {
     "is_executing": true
    }
   },
   "outputs": [],
   "source": [
    "%load_ext autoreload\n",
    "%autoreload 2\n",
    "import tokenizer_custom_bert\n",
    "\n",
    "text = \"After stealing embeddings from the bank's accounts, the bank robber was seen driving on the Mississippi river bank in mini-van.\"\n",
    "text = '[CLS]' + text + '[SEP]'\n",
    "tokenizer = tokenizer_custom_bert.BertTokenizer.from_pretrained(\"https://s3.amazonaws.com/models.huggingface.co/bert/bert-base-cased-vocab.txt\")\n",
    "tokenized_text = tokenizer.tokenize(text)\n",
    "print (tokenized_text)"
   ]
  }
 ],
 "metadata": {
  "kernelspec": {
   "display_name": "Python 3",
   "language": "python",
   "name": "python3"
  },
  "language_info": {
   "codemirror_mode": {
    "name": "ipython",
    "version": 3
   },
   "file_extension": ".py",
   "mimetype": "text/x-python",
   "name": "python",
   "nbconvert_exporter": "python",
   "pygments_lexer": "ipython3",
   "version": "3.7.6"
  }
 },
 "nbformat": 4,
 "nbformat_minor": 2
}
